{
 "cells": [
  {
   "cell_type": "markdown",
   "metadata": {
    "id": "8A5qYBrdyAG1"
   },
   "source": [
    "#Task 1\n",
    "We have declared a tuple containing five same elements as following:\n",
    "T = (‘python’, ‘python’, ‘python’, ‘python’, ‘python’).\n",
    "Re-write the same code in an optimal/simple way that fetches the same result."
   ]
  },
  {
   "cell_type": "markdown",
   "metadata": {
    "id": "mpFzoNxAyLaY"
   },
   "source": [
    "##Answer:\n"
   ]
  },
  {
   "cell_type": "code",
   "execution_count": 44,
   "metadata": {
    "colab": {
     "base_uri": "https://localhost:8080/"
    },
    "id": "jMY8aQBcyHzD",
    "outputId": "b409dc3b-5801-490b-8e3a-8f469879d85b"
   },
   "outputs": [
    {
     "name": "stdout",
     "output_type": "stream",
     "text": [
      "('python', 'python', 'python', 'python', 'python')\n"
     ]
    }
   ],
   "source": [
    "T=('python',)*5\n",
    "print(T)"
   ]
  },
  {
   "cell_type": "markdown",
   "metadata": {
    "id": "b4jP2Zi0yUMT"
   },
   "source": [
    "#Task 2\n",
    "Write code to print characters from a string that are present at an even index number. For example, if your input string is \"python\", the output characters will be (p,t,o)."
   ]
  },
  {
   "cell_type": "markdown",
   "metadata": {
    "id": "Wqb6k-KwyYYR"
   },
   "source": [
    "##Answer:"
   ]
  },
  {
   "cell_type": "code",
   "execution_count": 1,
   "metadata": {
    "colab": {
     "base_uri": "https://localhost:8080/"
    },
    "id": "rVIF-WlXya6h",
    "outputId": "ebd7238f-181e-4faa-850e-32fdd0146a5a"
   },
   "outputs": [
    {
     "data": {
      "text/plain": [
       "'pto'"
      ]
     },
     "execution_count": 1,
     "metadata": {},
     "output_type": "execute_result"
    }
   ],
   "source": [
    "string = 'python'\n",
    "string[::2]"
   ]
  },
  {
   "cell_type": "markdown",
   "metadata": {
    "id": "8DR_0L4T00aL"
   },
   "source": [
    "#Task 3\n",
    "Write a function that calculates the average of the elements of the list:\n",
    "\n",
    "elements = [5, 7, 4, 9, 2]"
   ]
  },
  {
   "cell_type": "markdown",
   "metadata": {
    "id": "DNdKb6YI08Ll"
   },
   "source": [
    "#Answer:"
   ]
  },
  {
   "cell_type": "code",
   "execution_count": 2,
   "metadata": {
    "colab": {
     "base_uri": "https://localhost:8080/"
    },
    "id": "cd3pEDu006J5",
    "outputId": "3c48054b-1c89-48af-b5eb-a81294143f56"
   },
   "outputs": [
    {
     "name": "stdout",
     "output_type": "stream",
     "text": [
      "5.4\n"
     ]
    }
   ],
   "source": [
    "elements = [5, 7, 4, 9, 2]\n",
    "\n",
    "def average(elements):\n",
    "  return sum(elements)/len(elements)\n",
    "\n",
    "print(average(elements))"
   ]
  },
  {
   "cell_type": "markdown",
   "metadata": {
    "id": "G3hmR-QI3G4b"
   },
   "source": [
    "#Task 4\n",
    "Write code to find if the given year is a leap year or not."
   ]
  },
  {
   "cell_type": "markdown",
   "metadata": {
    "id": "YFrSOxmC-WKf"
   },
   "source": [
    "#Answer:"
   ]
  },
  {
   "cell_type": "code",
   "execution_count": 3,
   "metadata": {
    "colab": {
     "base_uri": "https://localhost:8080/"
    },
    "id": "1yZC1La62CDz",
    "outputId": "65339e09-f938-44bc-b5d4-455f5308cd94"
   },
   "outputs": [
    {
     "name": "stdout",
     "output_type": "stream",
     "text": [
      "2020\n",
      "2020 is a leap year\n"
     ]
    }
   ],
   "source": [
    "year = int(input())\n",
    "\n",
    "if (year % 400 == 0) and (year % 100 == 0):\n",
    "    print(\"{0} is a leap year\".format(year))\n",
    "elif (year % 4 ==0) and (year % 100 != 0):\n",
    "    print(\"{0} is a leap year\".format(year))\n",
    "else:\n",
    "    print(\"{0} is not a leap year\".format(year))"
   ]
  },
  {
   "cell_type": "markdown",
   "metadata": {
    "id": "PA-DsC269jTu"
   },
   "source": [
    "#Task 5\n",
    "Given a list of numbers (integers), find the sum of second maximum and second minimum in the following list.\n",
    "\n",
    "l = [21, 6, 12, 57, 35, 61]"
   ]
  },
  {
   "cell_type": "markdown",
   "metadata": {
    "id": "Kra3tvrF-Zpj"
   },
   "source": [
    "#Answer:"
   ]
  },
  {
   "cell_type": "code",
   "execution_count": 4,
   "metadata": {
    "colab": {
     "base_uri": "https://localhost:8080/"
    },
    "id": "TPdJODYe-Sl6",
    "outputId": "ed0661dc-0310-4419-bf75-8d94c1b60c92"
   },
   "outputs": [
    {
     "data": {
      "text/plain": [
       "69"
      ]
     },
     "execution_count": 4,
     "metadata": {},
     "output_type": "execute_result"
    }
   ],
   "source": [
    "l = [21, 6, 12, 57, 35, 61]\n",
    "l.sort()\n",
    "sum = l[1] + l[-2]\n",
    "sum"
   ]
  }
 ],
 "metadata": {
  "colab": {
   "collapsed_sections": [],
   "name": "Dphi_Python_Bootcamp.ipynb",
   "provenance": []
  },
  "kernelspec": {
   "display_name": "Python 3",
   "language": "python",
   "name": "python3"
  },
  "language_info": {
   "codemirror_mode": {
    "name": "ipython",
    "version": 3
   },
   "file_extension": ".py",
   "mimetype": "text/x-python",
   "name": "python",
   "nbconvert_exporter": "python",
   "pygments_lexer": "ipython3",
   "version": "3.8.5"
  }
 },
 "nbformat": 4,
 "nbformat_minor": 1
}
